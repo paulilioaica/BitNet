{
 "cells": [
  {
   "cell_type": "code",
   "execution_count": 32,
   "metadata": {},
   "outputs": [],
   "source": [
    "import torch.nn as nn\n",
    "import torch\n",
    "import torch.nn.functional as F\n",
    "\n",
    "class BitLinear(nn.Linear):\n",
    "    def __init__(self, in_features, out_features, bias=False, a=-1, b=1, epsilon = 1e-5):\n",
    "        super(BitLinear, self).__init__(in_features, out_features, bias)\n",
    "        self.epsilon = epsilon\n",
    "        self.a = a\n",
    "        self.b = b\n",
    "        self.in_features = in_features\n",
    "        self.out_features = out_features\n",
    "        self.weight = self.binarize(self.weight)\n",
    "        self.gamma_forward = nn.Parameter(torch.ones(in_features))\n",
    "        self.beta_forward = nn.Parameter(torch.ones(out_features))\n",
    "    \n",
    "    def apply_binarization(self):\n",
    "        self.weight = self.binarize(self.weight)\n",
    "        \n",
    "    def round_clip(self, W, a=-1, b=1):\n",
    "        # make sure we broadcast a and b to the same shape as W\n",
    "        a = a * torch.ones_like(W)\n",
    "        b = b * torch.ones_like(W)\n",
    "        W = torch.max(a, torch.min(b, W.round()))\n",
    "        return W\n",
    "\n",
    "    def binarize(self, W):  \n",
    "        gamma = torch.sum(torch.abs(W)) / (W.shape[0] * W.shape[1])  \n",
    "        W = W / (gamma + self.epsilon)  \n",
    "        W_bin = self.round_clip(W, self.a, self.b)  \n",
    "        W = W + (W_bin - W).detach()  # STE for the rounding operation  \n",
    "        return torch.nn.Parameter(W, requires_grad=True)  \n",
    "    \n",
    "def forward(self, input):\n",
    "    # Ensure input is at least 2D\n",
    "    if input.dim() == 1:\n",
    "        input = input.unsqueeze(1)\n",
    "\n",
    "    input_norm = F.layer_norm(input, (self.in_features,))\n",
    "\n",
    "    # Absmax Quantization\n",
    "    quant_scale = torch.max(torch.abs(input_norm), dim=1, keepdim=True).values\n",
    "    input_quant = torch.sign(input_norm) * (quant_scale / self.gamma_forward)\n",
    "\n",
    "    # Calculate the positive and negative parts of the weight\n",
    "    weight_pos = torch.clamp(self.weight, min=0)\n",
    "    weight_neg = torch.clamp(self.weight, max=0)\n",
    "\n",
    "    # Calculate the output as the sum of the positive and negative parts\n",
    "    output_pos = torch.sum(input * weight_pos, dim=1)\n",
    "    output_neg = torch.sum(input * weight_neg, dim=1)\n",
    "    output = output_pos + output_neg\n",
    "\n",
    "    if self.bias is not None:\n",
    "        output += self.bias\n",
    "\n",
    "    return output\n",
    "\n"
   ]
  },
  {
   "cell_type": "code",
   "execution_count": 33,
   "metadata": {},
   "outputs": [],
   "source": [
    "binary_linear = BitLinear(10, 1)\n",
    "regular_linear = nn.Linear(10, 1)"
   ]
  },
  {
   "cell_type": "code",
   "execution_count": 34,
   "metadata": {},
   "outputs": [
    {
     "name": "stdout",
     "output_type": "stream",
     "text": [
      "tensor([-0.8660], grad_fn=<SqueezeBackward4>)\n",
      "Parameter containing:\n",
      "tensor([[ 1.,  1., -1., -1., -1., -1.,  1.,  0., -1.,  0.]],\n",
      "       requires_grad=True)\n"
     ]
    }
   ],
   "source": [
    "# pass dummy data\n",
    "x = torch.rand(10)\n",
    "print(binary_linear(x))\n",
    "\n",
    "# check the weights\n",
    "print(binary_linear.weight)"
   ]
  },
  {
   "cell_type": "code",
   "execution_count": 36,
   "metadata": {},
   "outputs": [
    {
     "name": "stdout",
     "output_type": "stream",
     "text": [
      "Parameter containing:\n",
      "tensor([[ 1.,  1.,  1.,  0.,  0.,  1., -1.,  0.,  1., -1.],\n",
      "        [ 1., -1., -1.,  1.,  1., -1.,  1.,  1.,  1., -1.],\n",
      "        [ 1., -1., -1.,  0.,  1., -1., -1.,  1.,  1.,  0.],\n",
      "        [-1., -1.,  1.,  1.,  0., -1.,  1.,  1., -1.,  1.],\n",
      "        [-1.,  1.,  1.,  1.,  1.,  1.,  0.,  1., -1.,  1.],\n",
      "        [-1., -1.,  1., -1.,  0., -1., -1.,  1.,  0.,  0.],\n",
      "        [ 0.,  0.,  0., -1.,  0.,  1., -1., -1.,  0.,  0.],\n",
      "        [-1., -1.,  1., -1.,  1.,  1., -1., -1.,  0., -1.],\n",
      "        [ 1., -1., -1.,  1.,  1.,  1.,  0.,  1., -1.,  1.],\n",
      "        [ 1., -1.,  0.,  1.,  1., -1., -1.,  0., -1.,  1.]],\n",
      "       requires_grad=True)\n",
      "Parameter containing:\n",
      "tensor([[ 1.,  1.,  1.,  0.,  0.,  1., -1.,  0.,  1., -1.],\n",
      "        [ 1., -1., -1.,  1.,  1., -1.,  1.,  1.,  1., -1.],\n",
      "        [ 1., -1., -1.,  0.,  1., -1., -1.,  1.,  1.,  0.],\n",
      "        [-1., -1.,  1.,  1.,  0., -1.,  1.,  1., -1.,  1.],\n",
      "        [-1.,  1.,  1.,  1.,  1.,  1.,  0.,  1., -1.,  1.],\n",
      "        [-1., -1.,  1., -1.,  0., -1., -1.,  1.,  0.,  0.],\n",
      "        [ 0.,  0.,  0., -1.,  0.,  1., -1., -1.,  0.,  0.],\n",
      "        [-1., -1.,  1., -1.,  1.,  1., -1., -1.,  0., -1.],\n",
      "        [ 1., -1., -1.,  1.,  1.,  1.,  0.,  1., -1.,  1.],\n",
      "        [ 1., -1.,  0.,  1.,  1., -1., -1.,  0., -1.,  1.]],\n",
      "       requires_grad=True)\n"
     ]
    }
   ],
   "source": [
    "#now lets try with an optimizer\n",
    "import torch.optim as optim\n",
    "import torch.nn.functional as F\n",
    "\n",
    "binary_linear = BitLinear(10, 10)\n",
    "optimizer = optim.SGD(binary_linear.parameters(), lr=0.01)\n",
    "\n",
    "# pass dummy data\n",
    "x = torch.rand(10)\n",
    "\n",
    "# check the weights\n",
    "print(binary_linear.weight)\n",
    "\n",
    "# now lets update the weights\n",
    "# first we need to zero the gradients\n",
    "optimizer.zero_grad()\n",
    "# then we can update the weights\n",
    "output = binary_linear(x)\n",
    "loss = F.mse_loss(output, torch.rand(10))\n",
    "loss.backward()\n",
    "optimizer.step()\n",
    "\n",
    "binary_linear.apply_binarization()\n",
    "# check the weights\n",
    "print(binary_linear.weight)\n"
   ]
  },
  {
   "cell_type": "code",
   "execution_count": 41,
   "metadata": {},
   "outputs": [],
   "source": [
    "#now let's optimize the binary layer on outputting all ones\n",
    "\n",
    "# create a binary layer\n",
    "binary_linear = BitLinear(10, 1)\n",
    "# create an optimizer\n",
    "optimizer = optim.SGD(binary_linear.parameters(), lr=0.01)\n",
    "# create a loss function\n",
    "criterion = nn.BCEWithLogitsLoss()\n",
    "# pass dummy data\n",
    "x = torch.rand(10)\n",
    "\n",
    "# now lets update the weights\n",
    "for i in range(1000):\n",
    "    # first we need to zero the gradients\n",
    "    optimizer.zero_grad()\n",
    "    # then we can update the weights\n",
    "    output = binary_linear(x)\n",
    "    loss = criterion(output, torch.ones(1))\n",
    "    loss.backward()\n",
    "    optimizer.step()\n",
    "    binary_linear.apply_binarization()\n",
    "    if loss.item() < 0.01:\n",
    "        print(loss.item())\n",
    "        break\n"
   ]
  }
 ],
 "metadata": {
  "kernelspec": {
   "display_name": "Python 3",
   "language": "python",
   "name": "python3"
  },
  "language_info": {
   "codemirror_mode": {
    "name": "ipython",
    "version": 3
   },
   "file_extension": ".py",
   "mimetype": "text/x-python",
   "name": "python",
   "nbconvert_exporter": "python",
   "pygments_lexer": "ipython3",
   "version": "3.10.11"
  }
 },
 "nbformat": 4,
 "nbformat_minor": 2
}
