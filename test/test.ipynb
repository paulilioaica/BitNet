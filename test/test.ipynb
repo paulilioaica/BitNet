{
 "cells": [
  {
   "cell_type": "code",
   "execution_count": 5,
   "metadata": {},
   "outputs": [],
   "source": [
    "import torch.nn as nn\n",
    "import torch\n",
    "import torch.nn.functional as F\n",
    "\n",
    "class BitLinear(nn.Linear):\n",
    "    def __init__(self, in_features, out_features, bias=False, a=-1, b=1, epsilon = 1e-5):\n",
    "        super(BitLinear, self).__init__(in_features, out_features, bias)\n",
    "        self.epsilon = epsilon\n",
    "        self.a = a\n",
    "        self.b = b\n",
    "        self.in_features = in_features\n",
    "        self.out_features = out_features\n",
    "        self.gamma_forward = nn.Parameter(torch.ones(in_features))\n",
    "        self.beta_forward = nn.Parameter(torch.ones(out_features))\n",
    "    \n",
    "    def get_binary_weight(self):\n",
    "        Wb = self.binarize(self.weight)\n",
    "        return Wb\n",
    "        \n",
    "    def round_clip(self, W, a=-1, b=1):\n",
    "        # make sure we broadcast a and b to the same shape as W\n",
    "        a = a * torch.ones_like(W)\n",
    "        b = b * torch.ones_like(W)\n",
    "        W = torch.max(a, torch.min(b, W.round()))\n",
    "        return W\n",
    "\n",
    "    def binarize(self, W):  \n",
    "        gamma = torch.sum(torch.abs(W)) / (W.shape[0] * W.shape[1])  \n",
    "        W = W / (gamma + self.epsilon)  \n",
    "        W_bin = self.round_clip(W, self.a, self.b)  \n",
    "        W = W + (W_bin - W).detach()  # STE for the rounding operation  \n",
    "        return torch.nn.Parameter(W, requires_grad=True)  \n",
    "    \n",
    "    def forward(self, input):\n",
    "        # Ensure input is at least 2D\n",
    "        if input.dim() == 1:\n",
    "            input = input.unsqueeze(1)\n",
    "\n",
    "        input_norm = F.layer_norm(input, (self.in_features,))\n",
    "\n",
    "        # Absmax Quantization\n",
    "        quant_scale = torch.max(torch.abs(input_norm), dim=1, keepdim=True).values\n",
    "        input_quant = torch.sign(input_norm) * (quant_scale / self.gamma_forward)\n",
    "        \n",
    "        weights_bin = self.get_binary_weight()\n",
    "\n",
    "        # Calculate the positive and negative parts of the weight\n",
    "        weight_pos = torch.clamp(weights_bin, min=0)\n",
    "        weight_neg = torch.clamp(weights_bin, max=0)\n",
    "\n",
    "        # Calculate the output as the sum of the positive and negative parts\n",
    "        output_pos = torch.sum(input_quant * weight_pos, dim=1)\n",
    "        output_neg = torch.sum(input_quant * weight_neg, dim=1)\n",
    "        output = output_pos + output_neg\n",
    "\n",
    "\n",
    "        return output\n",
    "\n"
   ]
  },
  {
   "cell_type": "code",
   "execution_count": 6,
   "metadata": {},
   "outputs": [],
   "source": [
    "binary_linear = BitLinear(10, 1)\n",
    "regular_linear = nn.Linear(10, 1)"
   ]
  },
  {
   "cell_type": "code",
   "execution_count": 7,
   "metadata": {},
   "outputs": [
    {
     "name": "stdout",
     "output_type": "stream",
     "text": [
      "tensor([0.1226], grad_fn=<SqueezeBackward4>)\n",
      "Parameter containing:\n",
      "tensor([[-0.1646, -0.1849,  0.2831, -0.0491, -0.2510,  0.3143,  0.3045, -0.0498,\n",
      "          0.0652,  0.1303]], requires_grad=True)\n",
      "Parameter containing:\n",
      "tensor([[-1., -1.,  1.,  0., -1.,  1.,  1.,  0.,  0.,  1.]],\n",
      "       requires_grad=True)\n"
     ]
    }
   ],
   "source": [
    "# pass dummy data\n",
    "x = torch.rand(10)\n",
    "print(binary_linear(x))\n",
    "\n",
    "# check the weights\n",
    "print(binary_linear.weight)\n",
    "\n",
    "#get the binary weights\n",
    "print(binary_linear.get_binary_weight())"
   ]
  },
  {
   "cell_type": "code",
   "execution_count": 27,
   "metadata": {},
   "outputs": [
    {
     "name": "stdout",
     "output_type": "stream",
     "text": [
      "0.009998239576816559\n"
     ]
    }
   ],
   "source": [
    "from torch import optim\n",
    "#now let's optimize the binary layer on outputting all ones\n",
    "\n",
    "# create a binary layer\n",
    "binary_linear = BitLinear(10, 1)\n",
    "# create an optimizer\n",
    "optimizer = optim.SGD(binary_linear.parameters(), lr=0.01)\n",
    "# create a loss function\n",
    "criterion = nn.BCEWithLogitsLoss()\n",
    "# pass dummy data\n",
    "x = torch.rand(10)\n",
    "\n",
    "# now lets update the weights\n",
    "for i in range(10000):\n",
    "    # first we need to zero the gradients\n",
    "    optimizer.zero_grad()\n",
    "    # then we can update the weights\n",
    "    output = binary_linear(x)\n",
    "    loss = criterion(output, torch.ones(1))\n",
    "    loss.backward()\n",
    "    optimizer.step()\n",
    "    if loss.item() < 0.01:\n",
    "        print(loss.item())\n",
    "        break\n"
   ]
  },
  {
   "cell_type": "code",
   "execution_count": 28,
   "metadata": {},
   "outputs": [
    {
     "name": "stdout",
     "output_type": "stream",
     "text": [
      "tensor([3.6615], grad_fn=<SqueezeBackward4>)\n",
      "tensor([3.6615], grad_fn=<SqueezeBackward4>)\n"
     ]
    }
   ],
   "source": [
    "#now let's check that both the binary and regular layers are outputting the same thing\n",
    "\n",
    "x = torch.rand(10)\n",
    "\n",
    "#first regular pass\n",
    "\n",
    "print(binary_linear(x)) \n",
    "\n",
    "\n",
    "#now pass the regular weights\n",
    "non_binary_weights = binary_linear.weight\n",
    "\n",
    "print(F.linear(x, non_binary_weights, binary_linear.bias))"
   ]
  },
  {
   "cell_type": "code",
   "execution_count": 29,
   "metadata": {},
   "outputs": [
    {
     "name": "stdout",
     "output_type": "stream",
     "text": [
      "Floating point weights\n",
      "Parameter containing:\n",
      "tensor([[1.4297, 0.8353, 0.5600, 0.2679, 0.4749, 0.7671, 0.0983, 0.2097, 1.8864,\n",
      "         1.4391]], requires_grad=True)\n",
      "Binary weights\n",
      "Parameter containing:\n",
      "tensor([[1., 1., 1., 0., 1., 1., 0., 0., 1., 1.]], requires_grad=True)\n"
     ]
    }
   ],
   "source": [
    "print(\"Floating point weights\")\n",
    "print(non_binary_weights)\n",
    "print(\"Binary weights\")\n",
    "print(binary_linear.get_binary_weight())"
   ]
  }
 ],
 "metadata": {
  "kernelspec": {
   "display_name": "Python 3",
   "language": "python",
   "name": "python3"
  },
  "language_info": {
   "codemirror_mode": {
    "name": "ipython",
    "version": 3
   },
   "file_extension": ".py",
   "mimetype": "text/x-python",
   "name": "python",
   "nbconvert_exporter": "python",
   "pygments_lexer": "ipython3",
   "version": "3.10.11"
  }
 },
 "nbformat": 4,
 "nbformat_minor": 2
}
